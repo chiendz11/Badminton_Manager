{
 "cells": [
  {
   "cell_type": "markdown",
   "metadata": {},
   "source": [
    "# Import các thứ viện cần thiết"
   ]
  },
  {
   "cell_type": "code",
   "execution_count": 2,
   "metadata": {},
   "outputs": [],
   "source": [
    "import pandas as pd\n",
    "import numpy as np\n",
    "import torch\n",
    "import re\n",
    "from torch.utils.data import Dataset, DataLoader\n",
    "from transformers import AutoTokenizer, AutoModelForQuestionAnswering, pipeline\n",
    "from torch.optim import AdamW\n",
    "from sklearn.model_selection import train_test_split\n",
    "from tqdm import tqdm\n",
    "import matplotlib.pyplot as plt\n",
    "import os\n",
    "import random"
   ]
  },
  {
   "cell_type": "code",
   "execution_count": 6,
   "metadata": {},
   "outputs": [
    {
     "name": "stdout",
     "output_type": "stream",
     "text": [
      "Sử dụng thiết bị: cpu\n"
     ]
    }
   ],
   "source": [
    "BATCH_SIZE = 8\n",
    "EPOCHS = 10\n",
    "LEARNING_RATE = 1e-5\n",
    "MAX_LENGTH = 384\n",
    "STRIDE = 128\n",
    "MODEL_NAME = \"deepset/roberta-base-squad2\"\n",
    "DEVICE = torch.device(\"cuda\" if torch.cuda.is_available() else \"cpu\")\n",
    "print(f\"Sử dụng thiết bị: {DEVICE}\")"
   ]
  },
  {
   "cell_type": "code",
   "execution_count": 31,
   "metadata": {},
   "outputs": [],
   "source": [
    "# tokenizer = AutoTokenizer.from_pretrained(\"deepset/roberta-base-squad2\")\n",
    "# model = AutoModelForQuestionAnswering.from_pretrained(\"deepset/roberta-base-squad2\")\n",
    "\n",
    "model_path = \"badminton_qa_model\"  \n",
    "\n",
    "tokenizer = AutoTokenizer.from_pretrained(model_path)\n",
    "model = AutoModelForQuestionAnswering.from_pretrained(model_path)"
   ]
  },
  {
   "cell_type": "code",
   "execution_count": 100,
   "metadata": {},
   "outputs": [
    {
     "name": "stderr",
     "output_type": "stream",
     "text": [
      "Device set to use mps:0\n"
     ]
    },
    {
     "name": "stdout",
     "output_type": "stream",
     "text": [
      "Answer: Details'\n"
     ]
    }
   ],
   "source": [
    "qa_pipeline = pipeline(\"question-answering\", model=model, tokenizer=tokenizer)\n",
    "\n",
    "question = \"Are there any courts near Old Quarter?\"\n",
    "context = \"You can find the location of the course in the 'Course Details'\"\n",
    "\n",
    "result = qa_pipeline(question=question, context=context)\n",
    "\n",
    "print(\"Answer:\", result[\"answer\"])"
   ]
  },
  {
   "cell_type": "code",
   "execution_count": 55,
   "metadata": {},
   "outputs": [],
   "source": [
    "df = pd.read_csv('data/Question.csv')"
   ]
  },
  {
   "cell_type": "code",
   "execution_count": 56,
   "metadata": {},
   "outputs": [
    {
     "data": {
      "text/html": [
       "<div>\n",
       "<style scoped>\n",
       "    .dataframe tbody tr th:only-of-type {\n",
       "        vertical-align: middle;\n",
       "    }\n",
       "\n",
       "    .dataframe tbody tr th {\n",
       "        vertical-align: top;\n",
       "    }\n",
       "\n",
       "    .dataframe thead th {\n",
       "        text-align: right;\n",
       "    }\n",
       "</style>\n",
       "<table border=\"1\" class=\"dataframe\">\n",
       "  <thead>\n",
       "    <tr style=\"text-align: right;\">\n",
       "      <th></th>\n",
       "      <th>Question</th>\n",
       "      <th>Answer</th>\n",
       "    </tr>\n",
       "  </thead>\n",
       "  <tbody>\n",
       "    <tr>\n",
       "      <th>0</th>\n",
       "      <td>How do I book a badminton court?</td>\n",
       "      <td>You can book a court by logging in, choosing a...</td>\n",
       "    </tr>\n",
       "    <tr>\n",
       "      <th>1</th>\n",
       "      <td>Can I cancel my court reservation?</td>\n",
       "      <td>Yes, you can cancel your reservation from your...</td>\n",
       "    </tr>\n",
       "    <tr>\n",
       "      <th>2</th>\n",
       "      <td>Where can I see all available badminton courts?</td>\n",
       "      <td>You can view all available courts on the 'Book...</td>\n",
       "    </tr>\n",
       "    <tr>\n",
       "      <th>3</th>\n",
       "      <td>What if I forget my login password?</td>\n",
       "      <td>Click 'Forgot Password' on the login page and ...</td>\n",
       "    </tr>\n",
       "    <tr>\n",
       "      <th>4</th>\n",
       "      <td>Is there a fee for canceling a booking?</td>\n",
       "      <td>No, cancellation is free if done at least 1 ho...</td>\n",
       "    </tr>\n",
       "  </tbody>\n",
       "</table>\n",
       "</div>"
      ],
      "text/plain": [
       "                                          Question  \\\n",
       "0                 How do I book a badminton court?   \n",
       "1               Can I cancel my court reservation?   \n",
       "2  Where can I see all available badminton courts?   \n",
       "3              What if I forget my login password?   \n",
       "4          Is there a fee for canceling a booking?   \n",
       "\n",
       "                                              Answer  \n",
       "0  You can book a court by logging in, choosing a...  \n",
       "1  Yes, you can cancel your reservation from your...  \n",
       "2  You can view all available courts on the 'Book...  \n",
       "3  Click 'Forgot Password' on the login page and ...  \n",
       "4  No, cancellation is free if done at least 1 ho...  "
      ]
     },
     "execution_count": 56,
     "metadata": {},
     "output_type": "execute_result"
    }
   ],
   "source": [
    "df.head(5)"
   ]
  },
  {
   "cell_type": "code",
   "execution_count": 57,
   "metadata": {},
   "outputs": [
    {
     "name": "stdout",
     "output_type": "stream",
     "text": [
      "<class 'pandas.core.frame.DataFrame'>\n",
      "RangeIndex: 300 entries, 0 to 299\n",
      "Data columns (total 2 columns):\n",
      " #   Column    Non-Null Count  Dtype \n",
      "---  ------    --------------  ----- \n",
      " 0   Question  300 non-null    object\n",
      " 1   Answer    300 non-null    object\n",
      "dtypes: object(2)\n",
      "memory usage: 4.8+ KB\n"
     ]
    }
   ],
   "source": [
    "df.info()"
   ]
  },
  {
   "cell_type": "code",
   "execution_count": 58,
   "metadata": {},
   "outputs": [],
   "source": [
    "def convert_to_squad_format(df):\n",
    "    squad_data = {\n",
    "        \"data\": []\n",
    "    }\n",
    "    \n",
    "    # Tạo một context chung từ tất cả các câu hỏi và câu trả lời\n",
    "    complete_context = \"\"\n",
    "    qa_pairs = []\n",
    "    \n",
    "    for index, row in df.iterrows():\n",
    "        question = row['Question']\n",
    "        answer = row['Answer']\n",
    "        \n",
    "        # Thêm câu hỏi và câu trả lời vào context\n",
    "        current_qa = f\"Question: {question}\\nAnswer: {answer}\\n\\n\"\n",
    "        start_idx = len(complete_context)\n",
    "        complete_context += current_qa\n",
    "        \n",
    "        # Lưu lại vị trí bắt đầu của câu trả lời trong context\n",
    "        answer_start = start_idx + len(f\"Question: {question}\\nAnswer: \")\n",
    "        \n",
    "        qa_pairs.append({\n",
    "            \"question\": question,\n",
    "            \"answer\": {\n",
    "                \"text\": answer,\n",
    "                \"answer_start\": answer_start\n",
    "            }\n",
    "        })\n",
    "    \n",
    "    # Tạo một entry duy nhất trong dữ liệu SQuAD với context chung\n",
    "    squad_entry = {\n",
    "        \"title\": \"Badminton Court Management FAQ\",\n",
    "        \"paragraphs\": [{\n",
    "            \"context\": complete_context,\n",
    "            \"qas\": []\n",
    "        }]\n",
    "    }\n",
    "    \n",
    "    # Thêm các cặp question-answer vào entry\n",
    "    for i, qa in enumerate(qa_pairs):\n",
    "        squad_entry[\"paragraphs\"][0][\"qas\"].append({\n",
    "            \"id\": f\"id-{i}\",\n",
    "            \"question\": qa[\"question\"],\n",
    "            \"answers\": [{\n",
    "                \"text\": qa[\"answer\"][\"text\"],\n",
    "                \"answer_start\": qa[\"answer\"][\"answer_start\"]\n",
    "            }]\n",
    "        })\n",
    "    \n",
    "    squad_data[\"data\"].append(squad_entry)\n",
    "    return squad_data"
   ]
  },
  {
   "cell_type": "code",
   "execution_count": 59,
   "metadata": {},
   "outputs": [
    {
     "name": "stdout",
     "output_type": "stream",
     "text": [
      "Tập huấn luyện: 240 mẫu, Tập kiểm thử: 60 mẫu\n"
     ]
    }
   ],
   "source": [
    "train_df, test_df = train_test_split(df, test_size=0.2, random_state=42)\n",
    "print(f\"Tập huấn luyện: {len(train_df)} mẫu, Tập kiểm thử: {len(test_df)} mẫu\")"
   ]
  },
  {
   "cell_type": "code",
   "execution_count": 60,
   "metadata": {},
   "outputs": [],
   "source": [
    "# Cell 6: Tạo Dataset và DataLoader\n",
    "class QADataset(Dataset):\n",
    "    def __init__(self, squad_data, tokenizer, max_length, stride):\n",
    "        self.tokenizer = tokenizer\n",
    "        self.max_length = max_length\n",
    "        self.stride = stride\n",
    "        self.examples = []\n",
    "        self.features = []\n",
    "        \n",
    "        # Chuyển đổi dữ liệu SQuAD thành features\n",
    "        for article in squad_data[\"data\"]:\n",
    "            for paragraph in article[\"paragraphs\"]:\n",
    "                context = paragraph[\"context\"]\n",
    "                \n",
    "                for qa in paragraph[\"qas\"]:\n",
    "                    question = qa[\"question\"]\n",
    "                    answer = qa[\"answers\"][0]\n",
    "                    \n",
    "                    # Tokenize question và context\n",
    "                    inputs = tokenizer(\n",
    "                        question,\n",
    "                        context,\n",
    "                        max_length=max_length,\n",
    "                        stride=stride,\n",
    "                        truncation=\"only_second\",\n",
    "                        return_overflowing_tokens=True,\n",
    "                        return_offsets_mapping=True,\n",
    "                        padding=\"max_length\"\n",
    "                    )\n",
    "                    \n",
    "                    offset_mapping = inputs.pop(\"offset_mapping\")\n",
    "                    \n",
    "                    for i, offset in enumerate(offset_mapping):\n",
    "                        input_ids = inputs[\"input_ids\"][i]\n",
    "                        attention_mask = inputs[\"attention_mask\"][i]\n",
    "                        \n",
    "                        # Tìm vị trí start và end cho câu trả lời\n",
    "                        start_position = 0\n",
    "                        end_position = 0\n",
    "                        \n",
    "                        # Vị trí bắt đầu và kết thúc của câu trả lời trong context\n",
    "                        answer_start = answer[\"answer_start\"]\n",
    "                        answer_end = answer_start + len(answer[\"text\"])\n",
    "                        \n",
    "                        # Tìm các tokens tương ứng với vị trí bắt đầu và kết thúc\n",
    "                        for idx, (token_start, token_end) in enumerate(offset):\n",
    "                            if token_start <= answer_start and token_end > answer_start:\n",
    "                                start_position = idx\n",
    "                            if token_start < answer_end and token_end >= answer_end:\n",
    "                                end_position = idx\n",
    "                        \n",
    "                        self.features.append({\n",
    "                            \"input_ids\": input_ids,\n",
    "                            \"attention_mask\": attention_mask,\n",
    "                            \"start_positions\": start_position,\n",
    "                            \"end_positions\": end_position\n",
    "                        })\n",
    "    \n",
    "    def __len__(self):\n",
    "        return len(self.features)\n",
    "    \n",
    "    def __getitem__(self, idx):\n",
    "        feature = self.features[idx]\n",
    "        return {\n",
    "            \"input_ids\": torch.tensor(feature[\"input_ids\"], dtype=torch.long),\n",
    "            \"attention_mask\": torch.tensor(feature[\"attention_mask\"], dtype=torch.long),\n",
    "            \"start_positions\": torch.tensor(feature[\"start_positions\"], dtype=torch.long),\n",
    "            \"end_positions\": torch.tensor(feature[\"end_positions\"], dtype=torch.long)\n",
    "        }"
   ]
  },
  {
   "cell_type": "code",
   "execution_count": 61,
   "metadata": {},
   "outputs": [
    {
     "name": "stdout",
     "output_type": "stream",
     "text": [
      "Số lượng features trong tập huấn luyện: 6859\n",
      "Số lượng features trong tập kiểm thử: 420\n"
     ]
    }
   ],
   "source": [
    "train_squad = convert_to_squad_format(train_df)\n",
    "test_squad = convert_to_squad_format(test_df)\n",
    "\n",
    "# Tạo dataset và dataloader\n",
    "train_dataset = QADataset(train_squad, tokenizer, MAX_LENGTH, STRIDE)\n",
    "test_dataset = QADataset(test_squad, tokenizer, MAX_LENGTH, STRIDE)\n",
    "\n",
    "train_dataloader = DataLoader(train_dataset, batch_size=BATCH_SIZE, shuffle=True)\n",
    "test_dataloader = DataLoader(test_dataset, batch_size=BATCH_SIZE)\n",
    "\n",
    "print(f\"Số lượng features trong tập huấn luyện: {len(train_dataset)}\")\n",
    "print(f\"Số lượng features trong tập kiểm thử: {len(test_dataset)}\")"
   ]
  },
  {
   "cell_type": "code",
   "execution_count": 62,
   "metadata": {},
   "outputs": [],
   "source": [
    "def train_model(model, dataloader, optimizer, device, num_epochs):\n",
    "    model.to(device)\n",
    "    model.train()\n",
    "    \n",
    "    losses = []\n",
    "    \n",
    "    for epoch in range(num_epochs):\n",
    "        print(f\"Epoch {epoch+1}/{num_epochs}\")\n",
    "        epoch_loss = 0\n",
    "        \n",
    "        progress_bar = tqdm(dataloader, desc=f\"Training Epoch {epoch+1}\")\n",
    "        \n",
    "        for batch in progress_bar:\n",
    "            input_ids = batch[\"input_ids\"].to(device)\n",
    "            attention_mask = batch[\"attention_mask\"].to(device)\n",
    "            start_positions = batch[\"start_positions\"].to(device)\n",
    "            end_positions = batch[\"end_positions\"].to(device)\n",
    "            \n",
    "            optimizer.zero_grad()\n",
    "            \n",
    "            outputs = model(\n",
    "                input_ids=input_ids,\n",
    "                attention_mask=attention_mask,\n",
    "                start_positions=start_positions,\n",
    "                end_positions=end_positions\n",
    "            )\n",
    "            \n",
    "            loss = outputs.loss\n",
    "            loss.backward()\n",
    "            optimizer.step()\n",
    "            \n",
    "            epoch_loss += loss.item()\n",
    "            progress_bar.set_postfix({\"loss\": f\"{loss.item():.4f}\"})\n",
    "        \n",
    "        avg_epoch_loss = epoch_loss / len(dataloader)\n",
    "        losses.append(avg_epoch_loss)\n",
    "        print(f\"Epoch {epoch+1} - Mất mát trung bình: {avg_epoch_loss:.4f}\")\n",
    "    \n",
    "    return losses"
   ]
  },
  {
   "cell_type": "code",
   "execution_count": 63,
   "metadata": {},
   "outputs": [
    {
     "name": "stdout",
     "output_type": "stream",
     "text": [
      "Bắt đầu huấn luyện mô hình với tập huấn luyện...\n",
      "Epoch 1/15\n"
     ]
    },
    {
     "name": "stderr",
     "output_type": "stream",
     "text": [
      "Training Epoch 1: 100%|██████████| 858/858 [1:20:56<00:00,  5.66s/it, loss=0.0047]\n"
     ]
    },
    {
     "name": "stdout",
     "output_type": "stream",
     "text": [
      "Epoch 1 - Mất mát trung bình: 0.0400\n",
      "Epoch 2/15\n"
     ]
    },
    {
     "name": "stderr",
     "output_type": "stream",
     "text": [
      "Training Epoch 2: 100%|██████████| 858/858 [1:08:09<00:00,  4.77s/it, loss=0.0023]\n"
     ]
    },
    {
     "name": "stdout",
     "output_type": "stream",
     "text": [
      "Epoch 2 - Mất mát trung bình: 0.0290\n",
      "Epoch 3/15\n"
     ]
    },
    {
     "name": "stderr",
     "output_type": "stream",
     "text": [
      "Training Epoch 3: 100%|██████████| 858/858 [1:08:34<00:00,  4.80s/it, loss=0.0005]\n"
     ]
    },
    {
     "name": "stdout",
     "output_type": "stream",
     "text": [
      "Epoch 3 - Mất mát trung bình: 0.0203\n",
      "Epoch 4/15\n"
     ]
    },
    {
     "name": "stderr",
     "output_type": "stream",
     "text": [
      "Training Epoch 4: 100%|██████████| 858/858 [1:07:52<00:00,  4.75s/it, loss=0.0000]\n"
     ]
    },
    {
     "name": "stdout",
     "output_type": "stream",
     "text": [
      "Epoch 4 - Mất mát trung bình: 0.0123\n",
      "Epoch 5/15\n"
     ]
    },
    {
     "name": "stderr",
     "output_type": "stream",
     "text": [
      "Training Epoch 5: 100%|██████████| 858/858 [1:08:20<00:00,  4.78s/it, loss=0.0005]\n"
     ]
    },
    {
     "name": "stdout",
     "output_type": "stream",
     "text": [
      "Epoch 5 - Mất mát trung bình: 0.0175\n",
      "Epoch 6/15\n"
     ]
    },
    {
     "name": "stderr",
     "output_type": "stream",
     "text": [
      "Training Epoch 6: 100%|██████████| 858/858 [1:09:08<00:00,  4.84s/it, loss=0.0002]\n"
     ]
    },
    {
     "name": "stdout",
     "output_type": "stream",
     "text": [
      "Epoch 6 - Mất mát trung bình: 0.0119\n",
      "Epoch 7/15\n"
     ]
    },
    {
     "name": "stderr",
     "output_type": "stream",
     "text": [
      "Training Epoch 7: 100%|██████████| 858/858 [1:26:09<00:00,  6.02s/it, loss=0.0003]  \n"
     ]
    },
    {
     "name": "stdout",
     "output_type": "stream",
     "text": [
      "Epoch 7 - Mất mát trung bình: 0.0112\n",
      "Epoch 8/15\n"
     ]
    },
    {
     "name": "stderr",
     "output_type": "stream",
     "text": [
      "Training Epoch 8: 100%|██████████| 858/858 [1:27:32<00:00,  6.12s/it, loss=0.0005] \n"
     ]
    },
    {
     "name": "stdout",
     "output_type": "stream",
     "text": [
      "Epoch 8 - Mất mát trung bình: 0.0093\n",
      "Epoch 9/15\n"
     ]
    },
    {
     "name": "stderr",
     "output_type": "stream",
     "text": [
      "Training Epoch 9: 100%|██████████| 858/858 [1:19:24<00:00,  5.55s/it, loss=0.1423]\n"
     ]
    },
    {
     "name": "stdout",
     "output_type": "stream",
     "text": [
      "Epoch 9 - Mất mát trung bình: 0.0090\n",
      "Epoch 10/15\n"
     ]
    },
    {
     "name": "stderr",
     "output_type": "stream",
     "text": [
      "Training Epoch 10: 100%|██████████| 858/858 [1:05:29<00:00,  4.58s/it, loss=0.0000]\n"
     ]
    },
    {
     "name": "stdout",
     "output_type": "stream",
     "text": [
      "Epoch 10 - Mất mát trung bình: 0.0103\n",
      "Epoch 11/15\n"
     ]
    },
    {
     "name": "stderr",
     "output_type": "stream",
     "text": [
      "Training Epoch 11: 100%|██████████| 858/858 [1:23:41<00:00,  5.85s/it, loss=0.0000]   \n"
     ]
    },
    {
     "name": "stdout",
     "output_type": "stream",
     "text": [
      "Epoch 11 - Mất mát trung bình: 0.0066\n",
      "Epoch 12/15\n"
     ]
    },
    {
     "name": "stderr",
     "output_type": "stream",
     "text": [
      "Training Epoch 12: 100%|██████████| 858/858 [1:29:19<00:00,  6.25s/it, loss=0.0120]\n"
     ]
    },
    {
     "name": "stdout",
     "output_type": "stream",
     "text": [
      "Epoch 12 - Mất mát trung bình: 0.0071\n",
      "Epoch 13/15\n"
     ]
    },
    {
     "name": "stderr",
     "output_type": "stream",
     "text": [
      "Training Epoch 13: 100%|██████████| 858/858 [2:53:18<00:00, 12.12s/it, loss=0.0000]    \n"
     ]
    },
    {
     "name": "stdout",
     "output_type": "stream",
     "text": [
      "Epoch 13 - Mất mát trung bình: 0.0100\n",
      "Epoch 14/15\n"
     ]
    },
    {
     "name": "stderr",
     "output_type": "stream",
     "text": [
      "Training Epoch 14: 100%|██████████| 858/858 [1:10:56<00:00,  4.96s/it, loss=0.0003]\n"
     ]
    },
    {
     "name": "stdout",
     "output_type": "stream",
     "text": [
      "Epoch 14 - Mất mát trung bình: 0.0083\n",
      "Epoch 15/15\n"
     ]
    },
    {
     "name": "stderr",
     "output_type": "stream",
     "text": [
      "Training Epoch 15: 100%|██████████| 858/858 [1:09:55<00:00,  4.89s/it, loss=0.0000]"
     ]
    },
    {
     "name": "stdout",
     "output_type": "stream",
     "text": [
      "Epoch 15 - Mất mát trung bình: 0.0053\n"
     ]
    },
    {
     "name": "stderr",
     "output_type": "stream",
     "text": [
      "\n"
     ]
    }
   ],
   "source": [
    "optimizer = AdamW(model.parameters(), lr=LEARNING_RATE)\n",
    "\n",
    "print(\"Bắt đầu huấn luyện mô hình với tập huấn luyện...\")\n",
    "losses = train_model(model, train_dataloader, optimizer, DEVICE, EPOCHS)"
   ]
  },
  {
   "cell_type": "code",
   "execution_count": 64,
   "metadata": {},
   "outputs": [],
   "source": [
    "def evaluate_model(model, dataloader, tokenizer, device):\n",
    "    model.to(device)\n",
    "    model.eval()\n",
    "    \n",
    "    exact_match = 0\n",
    "    f1_score = 0\n",
    "    total = 0\n",
    "    \n",
    "    with torch.no_grad():\n",
    "        for batch in tqdm(dataloader, desc=\"Đánh giá\"):\n",
    "            input_ids = batch[\"input_ids\"].to(device)\n",
    "            attention_mask = batch[\"attention_mask\"].to(device)\n",
    "            start_positions = batch[\"start_positions\"].to(device)\n",
    "            end_positions = batch[\"end_positions\"].to(device)\n",
    "            \n",
    "            outputs = model(\n",
    "                input_ids=input_ids,\n",
    "                attention_mask=attention_mask\n",
    "            )\n",
    "            \n",
    "            start_logits = outputs.start_logits\n",
    "            end_logits = outputs.end_logits\n",
    "            \n",
    "            for i in range(len(input_ids)):\n",
    "                # Lấy vị trí có điểm cao nhất\n",
    "                start_pred = torch.argmax(start_logits[i]).item()\n",
    "                end_pred = torch.argmax(end_logits[i]).item()\n",
    "                \n",
    "                # Vị trí thực tế\n",
    "                start_true = start_positions[i].item()\n",
    "                end_true = end_positions[i].item()\n",
    "                \n",
    "                # Tính toán exact match\n",
    "                if start_pred == start_true and end_pred == end_true:\n",
    "                    exact_match += 1\n",
    "                \n",
    "                # Tính toán F1 score\n",
    "                pred_tokens = set(range(start_pred, end_pred + 1))\n",
    "                true_tokens = set(range(start_true, end_true + 1))\n",
    "                \n",
    "                common_tokens = len(pred_tokens.intersection(true_tokens))\n",
    "                \n",
    "                if len(pred_tokens) == 0 or len(true_tokens) == 0:\n",
    "                    f1 = 0\n",
    "                else:\n",
    "                    precision = common_tokens / len(pred_tokens)\n",
    "                    recall = common_tokens / len(true_tokens)\n",
    "                    f1 = 2 * precision * recall / (precision + recall) if (precision + recall) > 0 else 0\n",
    "                \n",
    "                f1_score += f1\n",
    "                total += 1\n",
    "    \n",
    "    exact_match_score = exact_match / total if total > 0 else 0\n",
    "    f1_score = f1_score / total if total > 0 else 0\n",
    "    \n",
    "    return {\n",
    "        \"exact_match\": exact_match_score,\n",
    "        \"f1_score\": f1_score\n",
    "    }"
   ]
  },
  {
   "cell_type": "code",
   "execution_count": 67,
   "metadata": {},
   "outputs": [
    {
     "name": "stderr",
     "output_type": "stream",
     "text": [
      "Đánh giá: 100%|██████████| 53/53 [01:00<00:00,  1.13s/it]"
     ]
    },
    {
     "name": "stdout",
     "output_type": "stream",
     "text": [
      "📊 Exact Match: 0.9928571428571429\n",
      "📈 F1 Score: 0.9889466089466088\n"
     ]
    },
    {
     "name": "stderr",
     "output_type": "stream",
     "text": [
      "\n"
     ]
    }
   ],
   "source": [
    "results = evaluate_model(model, test_dataloader, tokenizer, \"cpu\")\n",
    "\n",
    "print(\"📊 Exact Match:\", results[\"exact_match\"])\n",
    "print(\"📈 F1 Score:\", results[\"f1_score\"])"
   ]
  },
  {
   "cell_type": "code",
   "execution_count": 68,
   "metadata": {},
   "outputs": [
    {
     "data": {
      "image/png": "[encoded data removed]",
      "text/plain": [
       "<Figure size 1000x600 with 1 Axes>"
      ]
     },
     "metadata": {},
     "output_type": "display_data"
    }
   ],
   "source": [
    "plt.figure(figsize=(10, 6))\n",
    "plt.plot(range(1, len(losses) + 1), losses, marker='o')\n",
    "plt.title('Đồ thị mất mát trong quá trình huấn luyện')\n",
    "plt.xlabel('Epoch')\n",
    "plt.ylabel('Mất mát')\n",
    "plt.grid(True)\n",
    "plt.show()"
   ]
  },
  {
   "cell_type": "code",
   "execution_count": 69,
   "metadata": {},
   "outputs": [],
   "source": [
    "def predict_answer(question, context, model, tokenizer, device='cpu'):\n",
    "    model.to(device)\n",
    "    model.eval()\n",
    "    \n",
    "    # Tokenize câu hỏi và context\n",
    "    inputs = tokenizer(\n",
    "        question,\n",
    "        context,\n",
    "        max_length=384,\n",
    "        truncation=\"only_second\",\n",
    "        return_tensors=\"pt\"\n",
    "    )\n",
    "    \n",
    "    input_ids = inputs[\"input_ids\"].to(device)\n",
    "    attention_mask = inputs[\"attention_mask\"].to(device)\n",
    "    \n",
    "    with torch.no_grad():\n",
    "        outputs = model(\n",
    "            input_ids=input_ids,\n",
    "            attention_mask=attention_mask\n",
    "        )\n",
    "    \n",
    "    start_logits = outputs.start_logits\n",
    "    end_logits = outputs.end_logits\n",
    "    \n",
    "    start_idx = torch.argmax(start_logits).item()\n",
    "    end_idx = torch.argmax(end_logits).item()\n",
    "    \n",
    "    # Đảm bảo end_idx >= start_idx\n",
    "    if end_idx < start_idx:\n",
    "        end_idx = start_idx\n",
    "    \n",
    "    # Chuyển đổi token index thành text\n",
    "    answer_tokens = input_ids[0][start_idx:end_idx+1]\n",
    "    answer = tokenizer.decode(answer_tokens)\n",
    "    \n",
    "    return answer"
   ]
  },
  {
   "cell_type": "markdown",
   "metadata": {},
   "source": [
    "Test xem model có hiểu context không "
   ]
  },
  {
   "cell_type": "code",
   "execution_count": 70,
   "metadata": {},
   "outputs": [],
   "source": [
    "test_questions = [\n",
    "    \"Can I login by facebook account?\",\n",
    "    \"Can I create two accounts with the same email?\",\n",
    "    \"Do you offer both indoor and outdoor courts?\",\n",
    "    \"How do I find out where the court is?\",\n",
    "]"
   ]
  },
  {
   "cell_type": "code",
   "execution_count": 71,
   "metadata": {},
   "outputs": [
    {
     "name": "stderr",
     "output_type": "stream",
     "text": [
      "Device set to use mps:0\n",
      "Device set to use mps:0\n",
      "Device set to use mps:0\n",
      "Device set to use mps:0\n"
     ]
    },
    {
     "name": "stdout",
     "output_type": "stream",
     "text": [
      "Câu hỏi: Can I login by facebook account?\n",
      "Câu trả lời dự đoán: Yes, you can login by facebook account.\n",
      "Câu trả lời thực tế: Yes, you can login by facebook account.\n",
      "Độ tin cậy: 0.9948\n",
      "-----\n",
      "Câu hỏi: Can I create two accounts with the same email?\n",
      "Câu trả lời dự đoán: We currently only allow one account per email address.\n",
      "Câu trả lời thực tế: We currently only allow one account per email address.\n",
      "Độ tin cậy: 0.9974\n",
      "-----\n",
      "Câu hỏi: Do you offer both indoor and outdoor courts?\n",
      "Câu trả lời dự đoán: We only have indoor badminton courts.\n",
      "Câu trả lời thực tế: We only have indoor badminton courts.\n",
      "Độ tin cậy: 0.9898\n",
      "-----\n",
      "Câu hỏi: How do I find out where the court is?\n",
      "Câu trả lời dự đoán: You can find the court location in the Court Details.\n",
      "Câu trả lời thực tế: You can find the court location in the Court Details.\n",
      "Độ tin cậy: 0.9980\n",
      "-----\n"
     ]
    }
   ],
   "source": [
    "model_path = \"badminton_qa_model\"  \n",
    "\n",
    "tokenizer = AutoTokenizer.from_pretrained(model_path)\n",
    "model = AutoModelForQuestionAnswering.from_pretrained(model_path)\n",
    "\n",
    "def test_model_with_single_context(question, model, tokenizer, df):\n",
    "    # Tìm câu trả lời thực tế\n",
    "    actual_answer = df[df['Question'] == question]['Answer'].values[0]\n",
    "    \n",
    "    context = f\"Question: {question}\\nAnswer: {actual_answer}\"\n",
    "    \n",
    "    # Sử dụng pipeline\n",
    "    nlp = pipeline(\"question-answering\", model=model, tokenizer=tokenizer)\n",
    "    result = nlp(question=question, context=context)\n",
    "    \n",
    "    print(f\"Câu hỏi: {question}\")\n",
    "    print(f\"Câu trả lời dự đoán: {result['answer']}\")\n",
    "    print(f\"Câu trả lời thực tế: {actual_answer}\")\n",
    "    print(f\"Độ tin cậy: {result['score']:.4f}\")\n",
    "    print(\"-----\")\n",
    "    \n",
    "    return result\n",
    "\n",
    "# Kiểm tra\n",
    "for question in test_questions:\n",
    "    test_model_with_single_context(question, model, tokenizer, df)"
   ]
  },
  {
   "cell_type": "code",
   "execution_count": 33,
   "metadata": {},
   "outputs": [
    {
     "name": "stdout",
     "output_type": "stream",
     "text": [
      "Tiếng Anh: How to place badminton yard?\n",
      "Tiếng Việt: Làm cách nào để đặt một tòa án?\n"
     ]
    }
   ],
   "source": [
    "# import asyncio\n",
    "# from googletrans import Translator\n",
    "\n",
    "# translator = Translator()\n",
    "\n",
    "# async def translate_text():\n",
    "#     translated_question = await translator.translate(\"Làm sao để đặt sân cầu lông?\", src='vi', dest='en')\n",
    "#     translated_answer = await translator.translate(\"How do I book a court?\", src='en', dest='vi')\n",
    "#     print(\"Tiếng Anh:\", translated_question.text)\n",
    "#     print(\"Tiếng Việt:\", translated_answer.text)\n",
    "\n",
    "# await translate_text()"
   ]
  },
  {
   "cell_type": "code",
   "execution_count": 72,
   "metadata": {},
   "outputs": [
    {
     "name": "stdout",
     "output_type": "stream",
     "text": [
      "Đã lưu mô hình và tokenizer vào thư mục 'badminton_qa_model'\n"
     ]
    }
   ],
   "source": [
    "# # Tạo thư mục để lưu mô hình\n",
    "output_dir = \"badminton_qa_model\"\n",
    "os.makedirs(output_dir, exist_ok=True)\n",
    "\n",
    "# Lưu mô hình\n",
    "model.save_pretrained(output_dir)\n",
    "tokenizer.save_pretrained(output_dir)\n",
    "\n",
    "print(f\"Đã lưu mô hình và tokenizer vào thư mục '{output_dir}'\")"
   ]
  },
  {
   "cell_type": "code",
   "execution_count": 73,
   "metadata": {},
   "outputs": [],
   "source": [
    "# Tạo từ điển chủ đề\n",
    "topic_dict = {\n",
    "    \"booking\": [\"book\", \"reservation\", \"schedule\", \"available\", \"court\", \"time\", \"slot\", \"booking\", \"reschedule\", \"tournament\", \"organize\", \"session\", \"reserve\", \"advance\", \"statistics\", \"history\", \"past\"],\n",
    "    \"account\": [\"personal\", \"information\", \"login\", \"password\", \"register\", \"account\", \"profile\", \"signin\", \"signup\", \"forgot\", \"email\", \"facebook\", \"instagram\", \"twitter\", \"tiktok\", \"zalo\", \"microsoft\", \"phone\", \"reset\", \"create\", \"sign up\", \"format\"],\n",
    "    \"equipment\": [\"racket\", \"rent\", \"shuttlecock\", \"equipment\", \"purchase\", \"buy\", \"drinks\", \"water\"],\n",
    "    \"facilities\": [\"changing room\", \"locker\", \"parking\", \"facility\", \"toilet\", \"shower\", \"indoor\", \"outdoor\", \"location\", \"address\"],\n",
    "    \"payment\": [\"pay\", \"payment\", \"fee\", \"cost\", \"price\", \"refund\", \"cancel\", \"money\",\"charged\", \"free\", \"rate\", \"hourly\", \"vnd\"],\n",
    "    \"contact\": [\"contact\", \"staff\", \"help\", \"support\", \"question\", \"assistance\", \"email\", \"call\", \"hotline\", \"phone\", \"message\", \"reply\", \"respond\", \"inquiry\", \"email\", \"hotline\"],\n",
    "    \"website\": [\"news\", \"updates\", \"promotions\", \"discounts\", \"services\", \"policy\", \"terms\", \"guidelines\", \"introduction\", \"homepage\", \"section\", \"button\"],\n",
    "    \"misc\": []  # Mặc định cho câu hỏi không thuộc chủ đề nào\n",
    "}\n",
    "\n",
    "# Xác định chủ đề cho câu hỏi\n",
    "def identify_topic(question):\n",
    "    question = question.lower()\n",
    "    \n",
    "    # Kiểm tra từng chủ đề\n",
    "    for topic, keywords in topic_dict.items():\n",
    "        for keyword in keywords:\n",
    "            if keyword in question:\n",
    "                return topic\n",
    "    \n",
    "    return \"misc\"  # Chủ đề mặc định\n",
    "\n",
    "# Tạo context theo chủ đề\n",
    "def create_topic_contexts(df):\n",
    "    topic_contexts = {}\n",
    "    \n",
    "    # Khởi tạo context cho mỗi chủ đề\n",
    "    for topic in topic_dict.keys():\n",
    "        topic_contexts[topic] = \"\"\n",
    "    \n",
    "    # Phân loại câu hỏi vào các chủ đề\n",
    "    for _, row in df.iterrows():\n",
    "        question = row['Question']\n",
    "        answer = row['Answer']\n",
    "        \n",
    "        # Xác định chủ đề\n",
    "        topic = identify_topic(question)\n",
    "        \n",
    "        # Thêm vào context của chủ đề tương ứng\n",
    "        topic_contexts[topic] += f\"Question: {question}\\nAnswer: {answer}\\n\\n\"\n",
    "    \n",
    "    return topic_contexts"
   ]
  },
  {
   "cell_type": "code",
   "execution_count": 75,
   "metadata": {},
   "outputs": [],
   "source": [
    "from sentence_transformers import SentenceTransformer\n",
    "import numpy as np\n",
    "from sklearn.metrics.pairwise import cosine_similarity\n",
    "\n",
    "# Tải mô hình embedding\n",
    "embedding_model = SentenceTransformer('distilbert-base-nli-mean-tokens')\n",
    "\n",
    "# Tạo embeddings cho tất cả câu hỏi\n",
    "def create_question_embeddings(df):\n",
    "    questions = df['Question'].tolist()\n",
    "    embeddings = embedding_model.encode(questions)\n",
    "    return embeddings\n",
    "\n",
    "# Tìm câu hỏi tương tự nhất\n",
    "def find_similar_questions(question, df, embeddings, top_k=3):\n",
    "    # Tạo embedding cho câu hỏi\n",
    "    question_embedding = embedding_model.encode([question])[0]\n",
    "    \n",
    "    # Tính độ tương đồng\n",
    "    similarities = cosine_similarity([question_embedding], embeddings)[0]\n",
    "    \n",
    "    # Lấy top_k câu hỏi có độ tương đồng cao nhất\n",
    "    top_indices = np.argsort(similarities)[-top_k:][::-1]\n",
    "    \n",
    "    # Tạo context từ top_k câu hỏi\n",
    "    context = \"\"\n",
    "    for idx in top_indices:\n",
    "        q = df.iloc[idx]['Question']\n",
    "        a = df.iloc[idx]['Answer']\n",
    "        context += f\"Question: {q}\\nAnswer: {a}\\n\\n\"\n",
    "    \n",
    "    return context, similarities[top_indices[0]]"
   ]
  },
  {
   "cell_type": "code",
   "execution_count": 76,
   "metadata": {},
   "outputs": [],
   "source": [
    "# Khởi tạo\n",
    "topic_contexts = create_topic_contexts(df)\n",
    "embeddings = create_question_embeddings(df)\n",
    "\n",
    "# Sử dụng\n",
    "def smart_qa_system(question, df, model, tokenizer):\n",
    "    # Xác định chủ đề\n",
    "    topic = identify_topic(question)\n",
    "\n",
    "    if topic == \"misc\":\n",
    "        default_responses = [\n",
    "            \"I don't understand your question.\", \n",
    "            \"Please ask again.\"\n",
    "        ]\n",
    "        random_response = random.choice(default_responses)\n",
    "        return random_response, 1.0, \"default_response\"\n",
    "\n",
    "    similar_questions_df = df[df['Question'].apply(lambda q: identify_topic(q) == topic)]\n",
    "    if len(similar_questions_df) > 0:\n",
    "        similar_embeddings = create_question_embeddings(similar_questions_df)\n",
    "        context, similarity = find_similar_questions(question, similar_questions_df, similar_embeddings)\n",
    "        \n",
    "        # Nếu độ tương đồng cao, trả về câu trả lời trực tiếp\n",
    "        if similarity > 0.85:\n",
    "            for idx in np.argsort(cosine_similarity([embedding_model.encode([question])[0]], similar_embeddings)[0])[-1:]:\n",
    "                return similar_questions_df.iloc[idx]['Answer'], similarity, \"direct_match\"\n",
    "            \n",
    "    context = topic_contexts[topic]\n",
    "    \n",
    "    # Sử dụng pipeline question-answering\n",
    "    nlp = pipeline(\"question-answering\", model=model, tokenizer=tokenizer)\n",
    "    result = nlp(question=question, context=context)\n",
    "    \n",
    "    return result['answer'], result['score'], \"model_answer\""
   ]
  },
  {
   "cell_type": "code",
   "execution_count": 77,
   "metadata": {},
   "outputs": [
    {
     "name": "stdout",
     "output_type": "stream",
     "text": [
      "\n",
      "🔹 Câu hỏi (biến tấu): Hi there, may I ask you some question?\n",
      "🤖 Trả lời AI: Sure, I'm here to help! What would you like to know?\n",
      "📌 Phương pháp: direct_match\n",
      "📈 Score/Similarity: 0.96\n",
      "\n",
      "🔹 Câu hỏi (biến tấu): Where can I get a bottle of water?\n",
      "🤖 Trả lời AI: Yes, you can buy drinks at the front desk.\n",
      "📌 Phương pháp: direct_match\n",
      "📈 Score/Similarity: 1.00\n",
      "\n",
      "🔹 Câu hỏi (biến tấu): How can I update my account information?\n",
      "🤖 Trả lời AI: Go to your account settings to update your details.\n",
      "📌 Phương pháp: direct_match\n",
      "📈 Score/Similarity: 0.98\n",
      "\n",
      "🔹 Câu hỏi (biến tấu): What should I do to receive a refund after I cancel a booking?\n",
      "🤖 Trả lời AI: Refunds are issued if you cancel in time.\n",
      "📌 Phương pháp: direct_match\n",
      "📈 Score/Similarity: 0.98\n",
      "\n",
      "🔹 Câu hỏi (biến tấu): What if I don't remember my login password?\n",
      "🤖 Trả lời AI: Click 'Forgot Password' on the login page and follow the instructions to reset it.\n",
      "📌 Phương pháp: direct_match\n",
      "📈 Score/Similarity: 0.94\n"
     ]
    }
   ],
   "source": [
    "\n",
    "custom_questions = [\n",
    "    # # Gốc\n",
    "    # \"Can I move my booking to a different time?\",\n",
    "    # \"Can I sign in with TikTok?\",\n",
    "    # \"What’s the process for changing my account details?\",\n",
    "    # \"How do I get my refund after canceling a booking?\",\n",
    "    # \"Can I login by facebook account?\", \n",
    "\n",
    "    # Biến thể\n",
    "    \"Hi there, may I ask you some question?\",\n",
    "    \"Where can I get a bottle of water?\",\n",
    "    \"How can I update my account information?\",\n",
    "    \"What should I do to receive a refund after I cancel a booking?\",\n",
    "    \"What if I don't remember my login password?\"\n",
    "    # các câu hỏi này là dạng biến tấu(thay đổi các hỏi nhưng vẫn cùng 1 mục đích. Ví dụ: tối nay em ăn gì = hôm nay em ăn món gì vậy) của các câu hỏi trên\n",
    "    # chúng ta sẽ kiếm tra xem model có thực sự học được khi đổi data ko, nếu nó trả lời sai => overfit(overfit là model có khả năng trả lời rát tốt theo tập dữ liệu train với khi có dữ liệu lạ thì nó lại SAI)\n",
    "    # Am I able to log in using my TikTok account? ko hề có trong DATA => model đã học được và ko overfit\n",
    "]\n",
    "\n",
    "for question in custom_questions:\n",
    "    predicted_answer, score_or_sim, method = smart_qa_system(question, df, model, tokenizer)\n",
    "    \n",
    "    print(f\"\\n🔹 Câu hỏi (biến tấu): {question}\")\n",
    "    print(f\"🤖 Trả lời AI: {predicted_answer}\")\n",
    "    print(f\"📌 Phương pháp: {method}\")\n",
    "    print(f\"📈 Score/Similarity: {score_or_sim:.2f}\")"
   ]
  }
 ],
 "metadata": {
  "kernelspec": {
   "display_name": "Python 3",
   "language": "python",
   "name": "python3"
  },
  "language_info": {
   "codemirror_mode": {
    "name": "ipython",
    "version": 3
   },
   "file_extension": ".py",
   "mimetype": "text/x-python",
   "name": "python",
   "nbconvert_exporter": "python",
   "pygments_lexer": "ipython3",
   "version": "3.9.6"
  }
 },
 "nbformat": 4,
 "nbformat_minor": 2
}
